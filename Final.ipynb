{
 "cells": [
  {
   "cell_type": "code",
   "execution_count": 48,
   "id": "b20e7147-77ce-4578-a606-0829f7ca97a2",
   "metadata": {},
   "outputs": [],
   "source": [
    "import numpy as np\n",
    "import matplotlib.pyplot as plt\n",
    "from ipywidgets import interact, FloatSlider\n",
    "from matplotlib.lines import Line2D\n",
    "from scipy.integrate import trapezoid\n"
   ]
  },
  {
   "cell_type": "code",
   "execution_count": 42,
   "id": "52f4e4dc-1e0a-4cc6-8310-a88a8f565f8b",
   "metadata": {},
   "outputs": [],
   "source": [
    "q   = 100.0             # [Вт] Мощность источника\n",
    "k   = 28.0              # [Вт/(м·K)] Теплопроводность\n",
    "rho = 4400.0            # [кг/м^3] Плотность\n",
    "c   = 760.0             # [Дж/(кг·K)] Теплоёмкость\n",
    "v   = 1.0               # [м/с] Скорость\n",
    "a   = k/(rho*c)         # [м^2/с] Теплодиффузивность\n",
    "r0  = 40e-6             # [м] Характерный масштаб (40 мкм)\n",
    "t0 = r0**2 / (4 * a)    # Характерное время\n",
    "V = v**2 * t0 / r0**2   # Безразмерная скорость\n"
   ]
  },
  {
   "cell_type": "code",
   "execution_count": 43,
   "id": "15603f1b-132a-442c-928b-7e3efd9a2b74",
   "metadata": {},
   "outputs": [],
   "source": [
    "R = lambda x, y, z: np.sqrt(x**2 + y**2 + z**2)\n",
    "r = lambda x, y: np.sqrt(x**2 + y**2)\n",
    "H = lambda x, y: (r(x, y)/r0)**2\n",
    "Z = lambda z: (z/r0)**2\n",
    "T_ideal = lambda x, y, z: q/(2*np.pi*k*R(x,y,z))*np.exp(-v/(2*a)*(x+R(x,y,z)))"
   ]
  },
  {
   "cell_type": "code",
   "execution_count": 78,
   "id": "38a29f5a-40cb-4a96-a348-60dd345a8834",
   "metadata": {},
   "outputs": [
    {
     "name": "stdout",
     "output_type": "stream",
     "text": [
      "Z(0): 0.0\n",
      "H(0,0): 0.0\n",
      "V: 29857.14285714286\n",
      "pre: 55.41295202119376\n",
      "T_real(0,0,0,N): 0.0\n"
     ]
    }
   ],
   "source": [
    "def phi1(x, y, z, lam):\n",
    "    H_ = H(x, y)\n",
    "    Z_ = Z(z)\n",
    "    sin = np.sin(lam)**2\n",
    "    cos = np.cos(lam)**2\n",
    "    ph = np.exp(-Z_/sin - H_*cos - V/cos)\n",
    "    return ph\n",
    "\n",
    "def phi2(x, y, z, lam):\n",
    "    H_ = H(x, y)\n",
    "    Z_ = Z(z)\n",
    "    sin = np.sin(lam)**2\n",
    "    cos = np.cos(lam)**2\n",
    "    ph = np.exp(-Z_/cos + H_*cos - V/sin)\n",
    "    return ph\n",
    "\n",
    "def I(x, y, z, N):\n",
    "    H_ = H(x, y)\n",
    "    Z_ = Z(z)\n",
    "    lam = np.linspace(1e-9, np.pi/4, N)  # избегаем деления на 0 в 0\n",
    "    phi1_vals = phi1(x, y, z, lam)\n",
    "    phi2_vals = phi2(x, y, z, lam)\n",
    "\n",
    "    I1 = trapezoid(phi1_vals, lam)\n",
    "    I2 = trapezoid(phi2_vals, lam)\n",
    "\n",
    "\n",
    "    i = np.exp(Z_) * (I1 + np.exp(-H_) * I2)\n",
    "    return i\n",
    "\n",
    "def T_real(x, y, z, N):\n",
    "    pre = 2*q/(rho*c*(4*np.pi*a)**1.5) \n",
    "    T = pre * np.exp(-v*x/(2*a)) * I(x, y, z, N)\n",
    "    return T\n"
   ]
  },
  {
   "cell_type": "code",
   "execution_count": 71,
   "id": "f82ccc67-961a-4523-8b76-55d1b229aebc",
   "metadata": {},
   "outputs": [],
   "source": [
    "# Изотермы плавления и испарения (в К) для двух сплавов\n",
    "Ti_iso = {\n",
    "    \"1920 K (Ti)\": 1920,\n",
    "    \"3530 K (Ti)\": 3530\n",
    "}\n",
    "# Al_iso = {\n",
    "#     \"870 K (Al)\": 870,\n",
    "#     \"2600 K (Al)\": 2600\n",
    "# }\n",
    "\n",
    "# Цвета\n",
    "Ti_color = 'cyan'\n",
    "Al_color = 'magenta'\n",
    "\n",
    "# Границы и сетка\n",
    "L = 1e-3\n",
    "N = 200\n",
    "grid = np.linspace(-L, L, N)\n",
    "\n",
    "# Ползунки\n",
    "slider_min = 0.0\n",
    "slider_max = 400e-6\n",
    "slider_step = 1e-6\n",
    "\n",
    "def add_isotherms(ax, X, Y, T):\n",
    "    # Ti\n",
    "    cs1 = ax.contour(X, Y, T, levels=Ti_iso.values(), colors=Ti_color, linewidths=2)\n",
    "    ax.clabel(cs1, fmt={v: k for k, v in Ti_iso.items()}, colors=Ti_color)\n",
    "\n",
    "    # Al\n",
    "    cs2 = ax.contour(X, Y, T, levels=Al_iso.values(), colors=Al_color, linewidths=2)\n",
    "    ax.clabel(cs2, fmt={v: k for k, v in Al_iso.items()}, colors=Al_color)\n",
    "\n",
    "    # Легенда\n",
    "    proxy_lines = [\n",
    "        Line2D([0], [0], color=Ti_color, lw=2, label='Ti-6Al-4V'),\n",
    "        Line2D([0], [0], color=Al_color, lw=2, label='AlSi10Mg')\n",
    "    ]\n",
    "    ax.legend(handles=proxy_lines, loc='upper right')"
   ]
  },
  {
   "cell_type": "code",
   "execution_count": 77,
   "id": "83b403ec-0f28-45c8-861e-0b0b741ce42a",
   "metadata": {},
   "outputs": [
    {
     "data": {
      "application/vnd.jupyter.widget-view+json": {
       "model_id": "a382a11f9c454b94864c83c8d4b4e0b7",
       "version_major": 2,
       "version_minor": 0
      },
      "text/plain": [
       "interactive(children=(FloatSlider(value=4e-05, description='fix(z)', max=0.0004, step=1e-06), Output()), _dom_…"
      ]
     },
     "metadata": {},
     "output_type": "display_data"
    },
    {
     "data": {
      "application/vnd.jupyter.widget-view+json": {
       "model_id": "156e2139700146c396da63a5eae9f16f",
       "version_major": 2,
       "version_minor": 0
      },
      "text/plain": [
       "interactive(children=(FloatSlider(value=4e-05, description='fix(y)', max=0.0004, step=1e-06), Output()), _dom_…"
      ]
     },
     "metadata": {},
     "output_type": "display_data"
    },
    {
     "data": {
      "application/vnd.jupyter.widget-view+json": {
       "model_id": "72fcd9816e814a128dfcc075b3ccd9a8",
       "version_major": 2,
       "version_minor": 0
      },
      "text/plain": [
       "interactive(children=(FloatSlider(value=4e-05, description='fix(x)', max=0.0004, step=1e-06), Output()), _dom_…"
      ]
     },
     "metadata": {},
     "output_type": "display_data"
    }
   ],
   "source": [
    "@interact(z=FloatSlider(min=slider_min, max=slider_max, step=slider_step, value=r0, description='fix(z)'))\n",
    "def plot_xy(z):\n",
    "    X, Y = np.meshgrid(grid, grid)\n",
    "    T = T_ideal(X, Y, z)\n",
    "    fig, ax = plt.subplots(figsize=(8, 6))\n",
    "    cf = ax.contourf(X * 1e6, Y * 1e6, T, levels=50, cmap=\"hot\")\n",
    "    fig.colorbar(cf, label='T, K')\n",
    "    add_isotherms(ax, X * 1e6, Y * 1e6, T)\n",
    "    ax.set_xlabel('x, мкм')\n",
    "    ax.set_ylabel('y, мкм')\n",
    "    ax.set_title(f'T_xy при z = {z*1e6:.0f} мкм')\n",
    "    plt.show()\n",
    "\n",
    "@interact(y=FloatSlider(min=slider_min, max=slider_max, step=slider_step, value=r0, description='fix(y)'))\n",
    "def plot_xz(y):\n",
    "    X, Z = np.meshgrid(grid, grid)\n",
    "    T = T_ideal(X, y, Z)\n",
    "    fig, ax = plt.subplots(figsize=(8, 6))\n",
    "    cf = ax.contourf(X * 1e6, Z * 1e6, T, levels=50, cmap=\"hot\")\n",
    "    fig.colorbar(cf, label='T, K')\n",
    "    add_isotherms(ax, X * 1e6, Z * 1e6, T)\n",
    "    ax.set_xlabel('x, мкм')\n",
    "    ax.set_ylabel('z, мкм')\n",
    "    ax.set_title(f'T_xz при y = {y*1e6:.0f} мкм')\n",
    "    plt.show()\n",
    "\n",
    "@interact(x=FloatSlider(min=slider_min, max=slider_max, step=slider_step, value=r0, description='fix(x)'))\n",
    "def plot_yz(x):\n",
    "    Y, Z = np.meshgrid(grid, grid)\n",
    "    T = T_ideal(x, Y, Z)\n",
    "    fig, ax = plt.subplots(figsize=(8, 6))\n",
    "    cf = ax.contourf(Y * 1e6, Z * 1e6, T, levels=50, cmap=\"hot\")\n",
    "    fig.colorbar(cf, label='T, K')\n",
    "    add_isotherms(ax, Y * 1e6, Z * 1e6, T)\n",
    "    ax.set_xlabel('y, мкм')\n",
    "    ax.set_ylabel('z, мкм')\n",
    "    ax.set_title(f'T_yz при x = {x*1e6:.0f} мкм')\n",
    "    plt.show()\n"
   ]
  },
  {
   "cell_type": "code",
   "execution_count": 73,
   "id": "35346dd7-02bc-4f59-b59a-a4912d39bb10",
   "metadata": {},
   "outputs": [
    {
     "data": {
      "application/vnd.jupyter.widget-view+json": {
       "model_id": "b9fb7c530207402981df1af9803ecaf2",
       "version_major": 2,
       "version_minor": 0
      },
      "text/plain": [
       "interactive(children=(FloatSlider(value=0.0, description='fix(z)', max=0.0004, step=1e-06), Output()), _dom_cl…"
      ]
     },
     "metadata": {},
     "output_type": "display_data"
    },
    {
     "data": {
      "application/vnd.jupyter.widget-view+json": {
       "model_id": "1d09112626844a56a90f445272c2a24a",
       "version_major": 2,
       "version_minor": 0
      },
      "text/plain": [
       "interactive(children=(FloatSlider(value=0.0, description='fix(y)', max=0.0004, step=1e-06), Output()), _dom_cl…"
      ]
     },
     "metadata": {},
     "output_type": "display_data"
    },
    {
     "data": {
      "application/vnd.jupyter.widget-view+json": {
       "model_id": "5c7529a2d45a4a4887c40e52a8ae80a2",
       "version_major": 2,
       "version_minor": 0
      },
      "text/plain": [
       "interactive(children=(FloatSlider(value=0.0, description='fix(x)', max=0.0004, step=1e-06), Output()), _dom_cl…"
      ]
     },
     "metadata": {},
     "output_type": "display_data"
    }
   ],
   "source": [
    "@interact(z=FloatSlider(min=slider_min, max=slider_max, step=slider_step, value=0.0, description='fix(z)'))\n",
    "def plot_xy(z):\n",
    "    X, Y = np.meshgrid(grid, grid)\n",
    "    T = np.vectorize(T_real)(X, Y, z, N)\n",
    "    fig, ax = plt.subplots(figsize=(8, 6))\n",
    "    cf = ax.contourf(X * 1e6, Y * 1e6, T, levels=50, cmap=\"hot\")\n",
    "    fig.colorbar(cf, label='T, K')\n",
    "    add_isotherms(ax, X * 1e6, Y * 1e6, T)\n",
    "    ax.set_xlabel('x, мкм')\n",
    "    ax.set_ylabel('y, мкм')\n",
    "    ax.set_title(f'T_xy при z = {z*1e6:.0f} мкм')\n",
    "    plt.show()\n",
    "\n",
    "@interact(y=FloatSlider(min=slider_min, max=slider_max, step=slider_step, value=0.0, description='fix(y)'))\n",
    "def plot_xz(y):\n",
    "    X, Z = np.meshgrid(grid, grid)\n",
    "    T = np.vectorize(T_real)(X, y, Z, N)\n",
    "    fig, ax = plt.subplots(figsize=(8, 6))\n",
    "    cf = ax.contourf(X * 1e6, Z * 1e6, T, levels=50, cmap=\"hot\")\n",
    "    fig.colorbar(cf, label='T, K')\n",
    "    add_isotherms(ax, X * 1e6, Z * 1e6, T)\n",
    "    ax.set_xlabel('x, мкм')\n",
    "    ax.set_ylabel('z, мкм')\n",
    "    ax.set_title(f'T_xz при y = {y*1e6:.0f} мкм')\n",
    "    plt.show()\n",
    "\n",
    "@interact(x=FloatSlider(min=slider_min, max=slider_max, step=slider_step, value=0.0, description='fix(x)'))\n",
    "def plot_yz(x):\n",
    "    Y, Z = np.meshgrid(grid, grid)\n",
    "    T = np.vectorize(T_real)(x, Y, Z, N)\n",
    "    fig, ax = plt.subplots(figsize=(8, 6))\n",
    "    cf = ax.contourf(Y * 1e6, Z * 1e6, T, levels=50, cmap=\"hot\")\n",
    "    fig.colorbar(cf, label='T, K')\n",
    "    add_isotherms(ax, Y * 1e6, Z * 1e6, T)\n",
    "    ax.set_xlabel('y, мкм')\n",
    "    ax.set_ylabel('z, мкм')\n",
    "    ax.set_title(f'T_yz при x = {x*1e6:.0f} мкм')\n",
    "    plt.show()\n"
   ]
  },
  {
   "cell_type": "code",
   "execution_count": null,
   "id": "f021d74f-a40e-4e28-8003-f0b006c3503a",
   "metadata": {},
   "outputs": [],
   "source": []
  },
  {
   "cell_type": "code",
   "execution_count": null,
   "id": "07da9749-85a5-49b0-99d1-5610d3e0b3ab",
   "metadata": {},
   "outputs": [],
   "source": []
  },
  {
   "cell_type": "code",
   "execution_count": null,
   "id": "bb145078-9f19-47b9-b530-cad25a2c4c67",
   "metadata": {},
   "outputs": [],
   "source": []
  }
 ],
 "metadata": {
  "kernelspec": {
   "display_name": "virtual_venv",
   "language": "python",
   "name": "my_venv"
  },
  "language_info": {
   "codemirror_mode": {
    "name": "ipython",
    "version": 3
   },
   "file_extension": ".py",
   "mimetype": "text/x-python",
   "name": "python",
   "nbconvert_exporter": "python",
   "pygments_lexer": "ipython3",
   "version": "3.13.2"
  }
 },
 "nbformat": 4,
 "nbformat_minor": 5
}
